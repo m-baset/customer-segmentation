{
 "cells": [
  {
   "attachments": {},
   "cell_type": "markdown",
   "metadata": {},
   "source": [
    "## About\n",
    "\n",
    "In this notebook, I am trying to perform customer segmentation based on Recency, Frequency, Monetary Value Analysis (RFM Analysis) using data from an online store transactions.\n",
    "\n",
    "I will use a clustering method using KMeans algorithm to cluster similar custmers in same groups.\n",
    "\n",
    "At the end, I will deliver an interpertation of the results and analysis of segments.\n",
    "\n",
    "#### Steps\n",
    "\n",
    "- Importing and Exploring Dataset\n",
    "- Customers Feature Extraction from data\n",
    "- Preprocessing and Preparation for clustering\n",
    "- Determining number of clusters\n",
    "- Perform Clustering\n",
    "- Show results and analysis of segements."
   ]
  },
  {
   "attachments": {},
   "cell_type": "markdown",
   "metadata": {},
   "source": [
    "## About Dataset\n",
    "\n",
    "This dataset represents transactions from a UK-based online retail store. [UCI Machine Learning Repository](https://archive.ics.uci.edu/ml/datasets/online+retail)"
   ]
  },
  {
   "cell_type": "code",
   "execution_count": 17,
   "metadata": {},
   "outputs": [],
   "source": [
    "# import important packages\n",
    "import pandas as pd\n",
    "import numpy as np\n",
    "import datetime\n",
    "import matplotlib.pyplot as plt\n",
    "import seaborn as sns\n",
    "from sklearn.preprocessing import StandardScaler\n",
    "from sklearn.cluster import KMeans"
   ]
  },
  {
   "cell_type": "code",
   "execution_count": 18,
   "metadata": {},
   "outputs": [
    {
     "data": {
      "text/html": [
       "<div>\n",
       "<style scoped>\n",
       "    .dataframe tbody tr th:only-of-type {\n",
       "        vertical-align: middle;\n",
       "    }\n",
       "\n",
       "    .dataframe tbody tr th {\n",
       "        vertical-align: top;\n",
       "    }\n",
       "\n",
       "    .dataframe thead th {\n",
       "        text-align: right;\n",
       "    }\n",
       "</style>\n",
       "<table border=\"1\" class=\"dataframe\">\n",
       "  <thead>\n",
       "    <tr style=\"text-align: right;\">\n",
       "      <th></th>\n",
       "      <th>Unnamed: 0</th>\n",
       "      <th>InvoiceNo</th>\n",
       "      <th>StockCode</th>\n",
       "      <th>Description</th>\n",
       "      <th>Quantity</th>\n",
       "      <th>InvoiceDate</th>\n",
       "      <th>UnitPrice</th>\n",
       "      <th>CustomerID</th>\n",
       "      <th>Country</th>\n",
       "    </tr>\n",
       "  </thead>\n",
       "  <tbody>\n",
       "    <tr>\n",
       "      <th>0</th>\n",
       "      <td>416792</td>\n",
       "      <td>572558</td>\n",
       "      <td>22745</td>\n",
       "      <td>POPPY'S PLAYHOUSE BEDROOM</td>\n",
       "      <td>6</td>\n",
       "      <td>2011-10-25</td>\n",
       "      <td>2.10</td>\n",
       "      <td>14286</td>\n",
       "      <td>United Kingdom</td>\n",
       "    </tr>\n",
       "    <tr>\n",
       "      <th>1</th>\n",
       "      <td>482904</td>\n",
       "      <td>577485</td>\n",
       "      <td>23196</td>\n",
       "      <td>VINTAGE LEAF MAGNETIC NOTEPAD</td>\n",
       "      <td>1</td>\n",
       "      <td>2011-11-20</td>\n",
       "      <td>1.45</td>\n",
       "      <td>16360</td>\n",
       "      <td>United Kingdom</td>\n",
       "    </tr>\n",
       "    <tr>\n",
       "      <th>2</th>\n",
       "      <td>263743</td>\n",
       "      <td>560034</td>\n",
       "      <td>23299</td>\n",
       "      <td>FOOD COVER WITH BEADS SET 2</td>\n",
       "      <td>6</td>\n",
       "      <td>2011-07-14</td>\n",
       "      <td>3.75</td>\n",
       "      <td>13933</td>\n",
       "      <td>United Kingdom</td>\n",
       "    </tr>\n",
       "    <tr>\n",
       "      <th>3</th>\n",
       "      <td>495549</td>\n",
       "      <td>578307</td>\n",
       "      <td>72349B</td>\n",
       "      <td>SET/6 PURPLE BUTTERFLY T-LIGHTS</td>\n",
       "      <td>1</td>\n",
       "      <td>2011-11-23</td>\n",
       "      <td>2.10</td>\n",
       "      <td>17290</td>\n",
       "      <td>United Kingdom</td>\n",
       "    </tr>\n",
       "    <tr>\n",
       "      <th>4</th>\n",
       "      <td>204384</td>\n",
       "      <td>554656</td>\n",
       "      <td>21756</td>\n",
       "      <td>BATH BUILDING BLOCK WORD</td>\n",
       "      <td>3</td>\n",
       "      <td>2011-05-25</td>\n",
       "      <td>5.95</td>\n",
       "      <td>17663</td>\n",
       "      <td>United Kingdom</td>\n",
       "    </tr>\n",
       "  </tbody>\n",
       "</table>\n",
       "</div>"
      ],
      "text/plain": [
       "   Unnamed: 0  InvoiceNo StockCode                      Description  Quantity  \\\n",
       "0      416792     572558     22745       POPPY'S PLAYHOUSE BEDROOM          6   \n",
       "1      482904     577485     23196    VINTAGE LEAF MAGNETIC NOTEPAD         1   \n",
       "2      263743     560034     23299     FOOD COVER WITH BEADS SET 2          6   \n",
       "3      495549     578307    72349B  SET/6 PURPLE BUTTERFLY T-LIGHTS         1   \n",
       "4      204384     554656     21756         BATH BUILDING BLOCK WORD         3   \n",
       "\n",
       "  InvoiceDate  UnitPrice  CustomerID         Country  \n",
       "0  2011-10-25       2.10       14286  United Kingdom  \n",
       "1  2011-11-20       1.45       16360  United Kingdom  \n",
       "2  2011-07-14       3.75       13933  United Kingdom  \n",
       "3  2011-11-23       2.10       17290  United Kingdom  \n",
       "4  2011-05-25       5.95       17663  United Kingdom  "
      ]
     },
     "execution_count": 18,
     "metadata": {},
     "output_type": "execute_result"
    }
   ],
   "source": [
    "data = pd.read_csv(\"data/online_retail.csv\")\n",
    "data.head()"
   ]
  },
  {
   "cell_type": "code",
   "execution_count": 19,
   "metadata": {},
   "outputs": [
    {
     "data": {
      "text/html": [
       "<div>\n",
       "<style scoped>\n",
       "    .dataframe tbody tr th:only-of-type {\n",
       "        vertical-align: middle;\n",
       "    }\n",
       "\n",
       "    .dataframe tbody tr th {\n",
       "        vertical-align: top;\n",
       "    }\n",
       "\n",
       "    .dataframe thead th {\n",
       "        text-align: right;\n",
       "    }\n",
       "</style>\n",
       "<table border=\"1\" class=\"dataframe\">\n",
       "  <thead>\n",
       "    <tr style=\"text-align: right;\">\n",
       "      <th></th>\n",
       "      <th>Unnamed: 0</th>\n",
       "      <th>InvoiceNo</th>\n",
       "      <th>StockCode</th>\n",
       "      <th>Description</th>\n",
       "      <th>Quantity</th>\n",
       "      <th>InvoiceDate</th>\n",
       "      <th>UnitPrice</th>\n",
       "      <th>CustomerID</th>\n",
       "      <th>Country</th>\n",
       "    </tr>\n",
       "  </thead>\n",
       "  <tbody>\n",
       "    <tr>\n",
       "      <th>0</th>\n",
       "      <td>416792</td>\n",
       "      <td>572558</td>\n",
       "      <td>22745</td>\n",
       "      <td>POPPY'S PLAYHOUSE BEDROOM</td>\n",
       "      <td>6</td>\n",
       "      <td>2011-10-25</td>\n",
       "      <td>2.10</td>\n",
       "      <td>14286</td>\n",
       "      <td>United Kingdom</td>\n",
       "    </tr>\n",
       "    <tr>\n",
       "      <th>1</th>\n",
       "      <td>482904</td>\n",
       "      <td>577485</td>\n",
       "      <td>23196</td>\n",
       "      <td>VINTAGE LEAF MAGNETIC NOTEPAD</td>\n",
       "      <td>1</td>\n",
       "      <td>2011-11-20</td>\n",
       "      <td>1.45</td>\n",
       "      <td>16360</td>\n",
       "      <td>United Kingdom</td>\n",
       "    </tr>\n",
       "    <tr>\n",
       "      <th>2</th>\n",
       "      <td>263743</td>\n",
       "      <td>560034</td>\n",
       "      <td>23299</td>\n",
       "      <td>FOOD COVER WITH BEADS SET 2</td>\n",
       "      <td>6</td>\n",
       "      <td>2011-07-14</td>\n",
       "      <td>3.75</td>\n",
       "      <td>13933</td>\n",
       "      <td>United Kingdom</td>\n",
       "    </tr>\n",
       "    <tr>\n",
       "      <th>3</th>\n",
       "      <td>495549</td>\n",
       "      <td>578307</td>\n",
       "      <td>72349B</td>\n",
       "      <td>SET/6 PURPLE BUTTERFLY T-LIGHTS</td>\n",
       "      <td>1</td>\n",
       "      <td>2011-11-23</td>\n",
       "      <td>2.10</td>\n",
       "      <td>17290</td>\n",
       "      <td>United Kingdom</td>\n",
       "    </tr>\n",
       "    <tr>\n",
       "      <th>4</th>\n",
       "      <td>204384</td>\n",
       "      <td>554656</td>\n",
       "      <td>21756</td>\n",
       "      <td>BATH BUILDING BLOCK WORD</td>\n",
       "      <td>3</td>\n",
       "      <td>2011-05-25</td>\n",
       "      <td>5.95</td>\n",
       "      <td>17663</td>\n",
       "      <td>United Kingdom</td>\n",
       "    </tr>\n",
       "  </tbody>\n",
       "</table>\n",
       "</div>"
      ],
      "text/plain": [
       "   Unnamed: 0  InvoiceNo StockCode                      Description  Quantity  \\\n",
       "0      416792     572558     22745       POPPY'S PLAYHOUSE BEDROOM          6   \n",
       "1      482904     577485     23196    VINTAGE LEAF MAGNETIC NOTEPAD         1   \n",
       "2      263743     560034     23299     FOOD COVER WITH BEADS SET 2          6   \n",
       "3      495549     578307    72349B  SET/6 PURPLE BUTTERFLY T-LIGHTS         1   \n",
       "4      204384     554656     21756         BATH BUILDING BLOCK WORD         3   \n",
       "\n",
       "  InvoiceDate  UnitPrice  CustomerID         Country  \n",
       "0  2011-10-25       2.10       14286  United Kingdom  \n",
       "1  2011-11-20       1.45       16360  United Kingdom  \n",
       "2  2011-07-14       3.75       13933  United Kingdom  \n",
       "3  2011-11-23       2.10       17290  United Kingdom  \n",
       "4  2011-05-25       5.95       17663  United Kingdom  "
      ]
     },
     "execution_count": 19,
     "metadata": {},
     "output_type": "execute_result"
    }
   ],
   "source": [
    "data.head()"
   ]
  },
  {
   "cell_type": "code",
   "execution_count": 20,
   "metadata": {},
   "outputs": [
    {
     "name": "stdout",
     "output_type": "stream",
     "text": [
      "<class 'pandas.core.frame.DataFrame'>\n",
      "RangeIndex: 68176 entries, 0 to 68175\n",
      "Data columns (total 9 columns):\n",
      " #   Column       Non-Null Count  Dtype  \n",
      "---  ------       --------------  -----  \n",
      " 0   Unnamed: 0   68176 non-null  int64  \n",
      " 1   InvoiceNo    68176 non-null  int64  \n",
      " 2   StockCode    68176 non-null  object \n",
      " 3   Description  68176 non-null  object \n",
      " 4   Quantity     68176 non-null  int64  \n",
      " 5   InvoiceDate  68176 non-null  object \n",
      " 6   UnitPrice    68176 non-null  float64\n",
      " 7   CustomerID   68176 non-null  int64  \n",
      " 8   Country      68176 non-null  object \n",
      "dtypes: float64(1), int64(4), object(4)\n",
      "memory usage: 4.7+ MB\n"
     ]
    }
   ],
   "source": [
    "data.info()"
   ]
  },
  {
   "cell_type": "code",
   "execution_count": 21,
   "metadata": {},
   "outputs": [
    {
     "data": {
      "text/plain": [
       "Unnamed: 0     0\n",
       "InvoiceNo      0\n",
       "StockCode      0\n",
       "Description    0\n",
       "Quantity       0\n",
       "InvoiceDate    0\n",
       "UnitPrice      0\n",
       "CustomerID     0\n",
       "Country        0\n",
       "dtype: int64"
      ]
     },
     "execution_count": 21,
     "metadata": {},
     "output_type": "execute_result"
    }
   ],
   "source": [
    "# check missing data\n",
    "data.isna().sum()"
   ]
  },
  {
   "attachments": {},
   "cell_type": "markdown",
   "metadata": {},
   "source": [
    "### Preprocessing"
   ]
  },
  {
   "cell_type": "code",
   "execution_count": 22,
   "metadata": {},
   "outputs": [],
   "source": [
    "# convert \"InvoiceDate\" column to datetime \n",
    "data['InvoiceDate'] = pd.to_datetime(data['InvoiceDate'], format=\"%Y-%m-%d\")"
   ]
  },
  {
   "attachments": {},
   "cell_type": "markdown",
   "metadata": {},
   "source": [
    "### Description Analysis"
   ]
  },
  {
   "cell_type": "code",
   "execution_count": 23,
   "metadata": {},
   "outputs": [
    {
     "name": "stdout",
     "output_type": "stream",
     "text": [
      "we have 68176 Transactions for 3643 Customer in United Kingdom\n",
      "Transactions has been taken from 2010-12-10 to 2011-12-09\n"
     ]
    }
   ],
   "source": [
    "print(\"we have\", data.shape[0], \"Transactions for\", data['CustomerID'].nunique(), \"Customer in\", data['Country'].unique()[0])\n",
    "print(\"Transactions has been taken from\", data['InvoiceDate'].min().strftime(\"%Y-%m-%d\"), \"to\", data['InvoiceDate'].max().strftime(\"%Y-%m-%d\"))"
   ]
  },
  {
   "cell_type": "code",
   "execution_count": 28,
   "metadata": {},
   "outputs": [
    {
     "data": {
      "text/plain": [
       "Text(0.5, 1.0, 'Distribution of \"UnitPrice\" attribute')"
      ]
     },
     "execution_count": 28,
     "metadata": {},
     "output_type": "execute_result"
    },
    {
     "data": {
      "image/png": "[encoded data removed]",
      "text/plain": [
       "<Figure size 1500x500 with 2 Axes>"
      ]
     },
     "metadata": {},
     "output_type": "display_data"
    }
   ],
   "source": [
    "# Distribution of quantative data\n",
    "fig, axes = plt.subplots(nrows=1, ncols=2, figsize=(15, 5))\n",
    "fig.suptitle('Distribution of numerical attributes')\n",
    "\n",
    "axes[0].boxplot(data['Quantity'])\n",
    "axes[0].set_title(\"Distribution of \\\"Quantity\\\" attribute\")\n",
    "\n",
    "axes[1].boxplot(data['UnitPrice'])\n",
    "axes[1].set_title(\"Distribution of \\\"UnitPrice\\\" attribute\")"
   ]
  },
  {
   "cell_type": "code",
   "execution_count": 26,
   "metadata": {},
   "outputs": [
    {
     "data": {
      "text/plain": [
       "8142.75"
      ]
     },
     "execution_count": 26,
     "metadata": {},
     "output_type": "execute_result"
    }
   ],
   "source": [
    "data['UnitPrice'].max()"
   ]
  },
  {
   "cell_type": "code",
   "execution_count": null,
   "metadata": {},
   "outputs": [],
   "source": []
  }
 ],
 "metadata": {
  "kernelspec": {
   "display_name": "Python 3",
   "language": "python",
   "name": "python3"
  },
  "language_info": {
   "codemirror_mode": {
    "name": "ipython",
    "version": 3
   },
   "file_extension": ".py",
   "mimetype": "text/x-python",
   "name": "python",
   "nbconvert_exporter": "python",
   "pygments_lexer": "ipython3",
   "version": "3.10.6"
  },
  "orig_nbformat": 4,
  "vscode": {
   "interpreter": {
    "hash": "916dbcbb3f70747c44a77c7bcd40155683ae19c65e1c03b4aa3499c5328201f1"
   }
  }
 },
 "nbformat": 4,
 "nbformat_minor": 2
}
