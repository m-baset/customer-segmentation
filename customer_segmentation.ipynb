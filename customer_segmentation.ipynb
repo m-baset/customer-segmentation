{
 "cells": [
  {
   "attachments": {},
   "cell_type": "markdown",
   "metadata": {},
   "source": [
    "## About\n",
    "\n",
    "In this notebook, I am trying to perform customer segmentation based on Recency, Frequency, Monetary Value Analysis (RFM Analysis) using data from an online store transactions.\n",
    "\n",
    "I will use a clustering method using KMeans algorithm to cluster similar custmers in same groups.\n",
    "\n",
    "At the end, I will deliver an interpertation of the results and analysis of segments.\n",
    "\n",
    "#### Steps\n",
    "\n",
    "- Importing and Exploring Dataset\n",
    "- Customers Feature Extraction from data\n",
    "- Preprocessing and Preparation for clustering\n",
    "- Determining number of clusters\n",
    "- Perform Clustering\n",
    "- Show results and analysis of segements."
   ]
  },
  {
   "attachments": {},
   "cell_type": "markdown",
   "metadata": {},
   "source": [
    "## About Dataset\n",
    "\n",
    "This dataset represents transactions from a UK-based online retail store. [UCI Machine Learning Repository](https://archive.ics.uci.edu/ml/datasets/online+retail)"
   ]
  },
  {
   "cell_type": "code",
   "execution_count": 1,
   "metadata": {},
   "outputs": [],
   "source": [
    "# import important packages\n",
    "import pandas as pd\n",
    "import numpy as np\n",
    "import matplotlib.pyplot as plt\n",
    "import seaborn as sns\n",
    "from sklearn.preprocessing import StandardScaler\n",
    "from sklearn.cluster import KMeans"
   ]
  },
  {
   "cell_type": "markdown",
   "metadata": {},
   "source": []
  }
 ],
 "metadata": {
  "kernelspec": {
   "display_name": "Python 3",
   "language": "python",
   "name": "python3"
  },
  "language_info": {
   "codemirror_mode": {
    "name": "ipython",
    "version": 3
   },
   "file_extension": ".py",
   "mimetype": "text/x-python",
   "name": "python",
   "nbconvert_exporter": "python",
   "pygments_lexer": "ipython3",
   "version": "3.10.6"
  },
  "orig_nbformat": 4,
  "vscode": {
   "interpreter": {
    "hash": "916dbcbb3f70747c44a77c7bcd40155683ae19c65e1c03b4aa3499c5328201f1"
   }
  }
 },
 "nbformat": 4,
 "nbformat_minor": 2
}
