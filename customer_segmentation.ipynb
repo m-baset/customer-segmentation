{
 "cells": [
  {
   "attachments": {},
   "cell_type": "markdown",
   "metadata": {},
   "source": [
    "## About\n",
    "\n",
    "In this notebook, I am trying to perform customer segmentation based on Recency, Frequency, Monetary Value Analysis (RFM Analysis) using data from an online store transactions.\n",
    "\n",
    "I will use a clustering method using KMeans algorithm to cluster similar custmers in same groups.\n",
    "\n",
    "At the end, I will deliver an interpertation of the results and analysis of segments.\n",
    "\n",
    "#### Steps\n",
    "\n",
    "- Importing and Exploring Dataset\n",
    "- Customers Feature Extraction from data\n",
    "- Preprocessing and Preparation for clustering\n",
    "- Determining number of clusters\n",
    "- Perform Clustering\n",
    "- Show results and analysis of segements."
   ]
  },
  {
   "attachments": {},
   "cell_type": "markdown",
   "metadata": {},
   "source": [
    "## About Dataset\n",
    "\n",
    "This dataset represents transactions from a UK-based online retail store. [UCI Machine Learning Repository](https://archive.ics.uci.edu/ml/datasets/online+retail)"
   ]
  },
  {
   "cell_type": "code",
   "execution_count": 216,
   "metadata": {},
   "outputs": [],
   "source": [
    "# import important packages\n",
    "import pandas as pd\n",
    "import numpy as np\n",
    "import datetime\n",
    "import matplotlib.pyplot as plt\n",
    "import seaborn as sns\n",
    "from sklearn.preprocessing import StandardScaler\n",
    "from sklearn.cluster import KMeans"
   ]
  },
  {
   "cell_type": "code",
   "execution_count": 217,
   "metadata": {},
   "outputs": [
    {
     "data": {
      "text/html": [
       "<div>\n",
       "<style scoped>\n",
       "    .dataframe tbody tr th:only-of-type {\n",
       "        vertical-align: middle;\n",
       "    }\n",
       "\n",
       "    .dataframe tbody tr th {\n",
       "        vertical-align: top;\n",
       "    }\n",
       "\n",
       "    .dataframe thead th {\n",
       "        text-align: right;\n",
       "    }\n",
       "</style>\n",
       "<table border=\"1\" class=\"dataframe\">\n",
       "  <thead>\n",
       "    <tr style=\"text-align: right;\">\n",
       "      <th></th>\n",
       "      <th>Unnamed: 0</th>\n",
       "      <th>InvoiceNo</th>\n",
       "      <th>StockCode</th>\n",
       "      <th>Description</th>\n",
       "      <th>Quantity</th>\n",
       "      <th>InvoiceDate</th>\n",
       "      <th>UnitPrice</th>\n",
       "      <th>CustomerID</th>\n",
       "      <th>Country</th>\n",
       "    </tr>\n",
       "  </thead>\n",
       "  <tbody>\n",
       "    <tr>\n",
       "      <th>0</th>\n",
       "      <td>416792</td>\n",
       "      <td>572558</td>\n",
       "      <td>22745</td>\n",
       "      <td>POPPY'S PLAYHOUSE BEDROOM</td>\n",
       "      <td>6</td>\n",
       "      <td>2011-10-25</td>\n",
       "      <td>2.10</td>\n",
       "      <td>14286</td>\n",
       "      <td>United Kingdom</td>\n",
       "    </tr>\n",
       "    <tr>\n",
       "      <th>1</th>\n",
       "      <td>482904</td>\n",
       "      <td>577485</td>\n",
       "      <td>23196</td>\n",
       "      <td>VINTAGE LEAF MAGNETIC NOTEPAD</td>\n",
       "      <td>1</td>\n",
       "      <td>2011-11-20</td>\n",
       "      <td>1.45</td>\n",
       "      <td>16360</td>\n",
       "      <td>United Kingdom</td>\n",
       "    </tr>\n",
       "    <tr>\n",
       "      <th>2</th>\n",
       "      <td>263743</td>\n",
       "      <td>560034</td>\n",
       "      <td>23299</td>\n",
       "      <td>FOOD COVER WITH BEADS SET 2</td>\n",
       "      <td>6</td>\n",
       "      <td>2011-07-14</td>\n",
       "      <td>3.75</td>\n",
       "      <td>13933</td>\n",
       "      <td>United Kingdom</td>\n",
       "    </tr>\n",
       "    <tr>\n",
       "      <th>3</th>\n",
       "      <td>495549</td>\n",
       "      <td>578307</td>\n",
       "      <td>72349B</td>\n",
       "      <td>SET/6 PURPLE BUTTERFLY T-LIGHTS</td>\n",
       "      <td>1</td>\n",
       "      <td>2011-11-23</td>\n",
       "      <td>2.10</td>\n",
       "      <td>17290</td>\n",
       "      <td>United Kingdom</td>\n",
       "    </tr>\n",
       "    <tr>\n",
       "      <th>4</th>\n",
       "      <td>204384</td>\n",
       "      <td>554656</td>\n",
       "      <td>21756</td>\n",
       "      <td>BATH BUILDING BLOCK WORD</td>\n",
       "      <td>3</td>\n",
       "      <td>2011-05-25</td>\n",
       "      <td>5.95</td>\n",
       "      <td>17663</td>\n",
       "      <td>United Kingdom</td>\n",
       "    </tr>\n",
       "  </tbody>\n",
       "</table>\n",
       "</div>"
      ],
      "text/plain": [
       "   Unnamed: 0  InvoiceNo StockCode                      Description  Quantity  \\\n",
       "0      416792     572558     22745       POPPY'S PLAYHOUSE BEDROOM          6   \n",
       "1      482904     577485     23196    VINTAGE LEAF MAGNETIC NOTEPAD         1   \n",
       "2      263743     560034     23299     FOOD COVER WITH BEADS SET 2          6   \n",
       "3      495549     578307    72349B  SET/6 PURPLE BUTTERFLY T-LIGHTS         1   \n",
       "4      204384     554656     21756         BATH BUILDING BLOCK WORD         3   \n",
       "\n",
       "  InvoiceDate  UnitPrice  CustomerID         Country  \n",
       "0  2011-10-25       2.10       14286  United Kingdom  \n",
       "1  2011-11-20       1.45       16360  United Kingdom  \n",
       "2  2011-07-14       3.75       13933  United Kingdom  \n",
       "3  2011-11-23       2.10       17290  United Kingdom  \n",
       "4  2011-05-25       5.95       17663  United Kingdom  "
      ]
     },
     "execution_count": 217,
     "metadata": {},
     "output_type": "execute_result"
    }
   ],
   "source": [
    "data = pd.read_csv(\"data/online_retail.csv\")\n",
    "data.head()"
   ]
  },
  {
   "cell_type": "code",
   "execution_count": 218,
   "metadata": {},
   "outputs": [
    {
     "name": "stdout",
     "output_type": "stream",
     "text": [
      "<class 'pandas.core.frame.DataFrame'>\n",
      "RangeIndex: 68176 entries, 0 to 68175\n",
      "Data columns (total 9 columns):\n",
      " #   Column       Non-Null Count  Dtype  \n",
      "---  ------       --------------  -----  \n",
      " 0   Unnamed: 0   68176 non-null  int64  \n",
      " 1   InvoiceNo    68176 non-null  int64  \n",
      " 2   StockCode    68176 non-null  object \n",
      " 3   Description  68176 non-null  object \n",
      " 4   Quantity     68176 non-null  int64  \n",
      " 5   InvoiceDate  68176 non-null  object \n",
      " 6   UnitPrice    68176 non-null  float64\n",
      " 7   CustomerID   68176 non-null  int64  \n",
      " 8   Country      68176 non-null  object \n",
      "dtypes: float64(1), int64(4), object(4)\n",
      "memory usage: 4.7+ MB\n"
     ]
    }
   ],
   "source": [
    "data.info()"
   ]
  },
  {
   "cell_type": "code",
   "execution_count": 219,
   "metadata": {},
   "outputs": [
    {
     "data": {
      "text/plain": [
       "Unnamed: 0     0\n",
       "InvoiceNo      0\n",
       "StockCode      0\n",
       "Description    0\n",
       "Quantity       0\n",
       "InvoiceDate    0\n",
       "UnitPrice      0\n",
       "CustomerID     0\n",
       "Country        0\n",
       "dtype: int64"
      ]
     },
     "execution_count": 219,
     "metadata": {},
     "output_type": "execute_result"
    }
   ],
   "source": [
    "# check missing data\n",
    "data.isna().sum()"
   ]
  },
  {
   "attachments": {},
   "cell_type": "markdown",
   "metadata": {},
   "source": [
    "### Preprocessing"
   ]
  },
  {
   "cell_type": "code",
   "execution_count": 220,
   "metadata": {},
   "outputs": [],
   "source": [
    "# convert \"InvoiceDate\" column to datetime \n",
    "data['InvoiceDate'] = pd.to_datetime(data['InvoiceDate'], format=\"%Y-%m-%d\")"
   ]
  },
  {
   "attachments": {},
   "cell_type": "markdown",
   "metadata": {},
   "source": [
    "### Descriptive Analysis"
   ]
  },
  {
   "cell_type": "code",
   "execution_count": 221,
   "metadata": {},
   "outputs": [
    {
     "name": "stdout",
     "output_type": "stream",
     "text": [
      "we have 68176 Transactions for 3643 Customer in United Kingdom\n",
      "Transactions has been taken from 2010-12-10 to 2011-12-09\n"
     ]
    }
   ],
   "source": [
    "print(\"we have\", data.shape[0], \"Transactions for\", data['CustomerID'].nunique(), \"Customer in\", data['Country'].unique()[0])\n",
    "print(\"Transactions has been taken from\", data['InvoiceDate'].min().strftime(\"%Y-%m-%d\"), \"to\", data['InvoiceDate'].max().strftime(\"%Y-%m-%d\"))"
   ]
  },
  {
   "cell_type": "code",
   "execution_count": 222,
   "metadata": {},
   "outputs": [
    {
     "data": {
      "text/plain": [
       "Text(0.5, 1.0, 'Distribution of \"UnitPrice\" attribute')"
      ]
     },
     "execution_count": 222,
     "metadata": {},
     "output_type": "execute_result"
    },
    {
     "data": {
      "image/png": "[encoded data removed]",
      "text/plain": [
       "<Figure size 1500x500 with 2 Axes>"
      ]
     },
     "metadata": {},
     "output_type": "display_data"
    }
   ],
   "source": [
    "# Distribution of quantative data\n",
    "fig, axes = plt.subplots(nrows=1, ncols=2, figsize=(15, 5))\n",
    "fig.suptitle('Distribution of numerical attributes')\n",
    "\n",
    "axes[0].boxplot(data['Quantity']);\n",
    "axes[0].set_title(\"Distribution of \\\"Quantity\\\" attribute\")\n",
    "\n",
    "axes[1].boxplot(data['UnitPrice']);\n",
    "axes[1].set_title(\"Distribution of \\\"UnitPrice\\\" attribute\")"
   ]
  },
  {
   "attachments": {},
   "cell_type": "markdown",
   "metadata": {},
   "source": [
    "almost all data is concentrated at low values except for some outliers."
   ]
  },
  {
   "attachments": {},
   "cell_type": "markdown",
   "metadata": {},
   "source": [
    "### Feature Engineering\n",
    "\n",
    "try to extract features for each customer based on his behavior in the transactions dataset.\n",
    "\n",
    "featrues will be correspond to RFM Analysis. This means that features will express Recency, Frequency and Monetary value for each customer.\n",
    "\n",
    "- Recency : measure how recent each customer's last purchase.\n",
    "- Frequency : measures how many purchases the customer has done.\n",
    "- Monetary Value : measures how much has the customer spend."
   ]
  },
  {
   "attachments": {},
   "cell_type": "markdown",
   "metadata": {},
   "source": [
    "We need to calculate how many days since the last purchase. To do this, we need a refrence day. So, i will create a hypothetical date and calculate based on it. that date will be the day after the last recent transaction in the dataset."
   ]
  },
  {
   "cell_type": "code",
   "execution_count": 223,
   "metadata": {},
   "outputs": [],
   "source": [
    "ref_day = data['InvoiceDate'].max() + datetime.timedelta(days=1)"
   ]
  },
  {
   "cell_type": "code",
   "execution_count": 224,
   "metadata": {},
   "outputs": [],
   "source": [
    "# create total price column by multiplying quantity and unit price columns\n",
    "data = data.assign(TotalPrice = data.Quantity * data.UnitPrice)"
   ]
  },
  {
   "cell_type": "code",
   "execution_count": 225,
   "metadata": {},
   "outputs": [],
   "source": [
    "customers_rfm = data.groupby(\"CustomerID\").agg({\n",
    "    \"InvoiceDate\" : lambda x : (ref_day - x.max()).days,\n",
    "    \"InvoiceNo\" : \"count\",\n",
    "    \"TotalPrice\" : \"sum\"\n",
    "}).rename(columns={\"InvoiceDate\" : \"R\", \"InvoiceNo\" : \"F\", \"TotalPrice\" : \"M\"})"
   ]
  },
  {
   "cell_type": "code",
   "execution_count": 226,
   "metadata": {},
   "outputs": [
    {
     "data": {
      "text/html": [
       "<div>\n",
       "<style scoped>\n",
       "    .dataframe tbody tr th:only-of-type {\n",
       "        vertical-align: middle;\n",
       "    }\n",
       "\n",
       "    .dataframe tbody tr th {\n",
       "        vertical-align: top;\n",
       "    }\n",
       "\n",
       "    .dataframe thead th {\n",
       "        text-align: right;\n",
       "    }\n",
       "</style>\n",
       "<table border=\"1\" class=\"dataframe\">\n",
       "  <thead>\n",
       "    <tr style=\"text-align: right;\">\n",
       "      <th></th>\n",
       "      <th>R</th>\n",
       "      <th>F</th>\n",
       "      <th>M</th>\n",
       "    </tr>\n",
       "    <tr>\n",
       "      <th>CustomerID</th>\n",
       "      <th></th>\n",
       "      <th></th>\n",
       "      <th></th>\n",
       "    </tr>\n",
       "  </thead>\n",
       "  <tbody>\n",
       "    <tr>\n",
       "      <th>12747</th>\n",
       "      <td>3</td>\n",
       "      <td>25</td>\n",
       "      <td>948.70</td>\n",
       "    </tr>\n",
       "    <tr>\n",
       "      <th>12748</th>\n",
       "      <td>1</td>\n",
       "      <td>888</td>\n",
       "      <td>7046.16</td>\n",
       "    </tr>\n",
       "    <tr>\n",
       "      <th>12749</th>\n",
       "      <td>4</td>\n",
       "      <td>37</td>\n",
       "      <td>813.45</td>\n",
       "    </tr>\n",
       "    <tr>\n",
       "      <th>12820</th>\n",
       "      <td>4</td>\n",
       "      <td>17</td>\n",
       "      <td>268.02</td>\n",
       "    </tr>\n",
       "    <tr>\n",
       "      <th>12822</th>\n",
       "      <td>71</td>\n",
       "      <td>9</td>\n",
       "      <td>146.15</td>\n",
       "    </tr>\n",
       "  </tbody>\n",
       "</table>\n",
       "</div>"
      ],
      "text/plain": [
       "             R    F        M\n",
       "CustomerID                  \n",
       "12747        3   25   948.70\n",
       "12748        1  888  7046.16\n",
       "12749        4   37   813.45\n",
       "12820        4   17   268.02\n",
       "12822       71    9   146.15"
      ]
     },
     "execution_count": 226,
     "metadata": {},
     "output_type": "execute_result"
    }
   ],
   "source": [
    "# Display sample of customer RFM Characteristics dataframe\n",
    "customers_rfm.head()"
   ]
  },
  {
   "cell_type": "code",
   "execution_count": 227,
   "metadata": {},
   "outputs": [
    {
     "data": {
      "text/html": [
       "<div>\n",
       "<style scoped>\n",
       "    .dataframe tbody tr th:only-of-type {\n",
       "        vertical-align: middle;\n",
       "    }\n",
       "\n",
       "    .dataframe tbody tr th {\n",
       "        vertical-align: top;\n",
       "    }\n",
       "\n",
       "    .dataframe thead th {\n",
       "        text-align: right;\n",
       "    }\n",
       "</style>\n",
       "<table border=\"1\" class=\"dataframe\">\n",
       "  <thead>\n",
       "    <tr style=\"text-align: right;\">\n",
       "      <th></th>\n",
       "      <th>R</th>\n",
       "      <th>F</th>\n",
       "      <th>M</th>\n",
       "    </tr>\n",
       "  </thead>\n",
       "  <tbody>\n",
       "    <tr>\n",
       "      <th>count</th>\n",
       "      <td>3643.0</td>\n",
       "      <td>3643.0</td>\n",
       "      <td>3643.0</td>\n",
       "    </tr>\n",
       "    <tr>\n",
       "      <th>mean</th>\n",
       "      <td>90.4</td>\n",
       "      <td>18.7</td>\n",
       "      <td>370.7</td>\n",
       "    </tr>\n",
       "    <tr>\n",
       "      <th>std</th>\n",
       "      <td>94.4</td>\n",
       "      <td>43.8</td>\n",
       "      <td>1347.4</td>\n",
       "    </tr>\n",
       "    <tr>\n",
       "      <th>min</th>\n",
       "      <td>1.0</td>\n",
       "      <td>1.0</td>\n",
       "      <td>0.6</td>\n",
       "    </tr>\n",
       "    <tr>\n",
       "      <th>25%</th>\n",
       "      <td>19.0</td>\n",
       "      <td>4.0</td>\n",
       "      <td>58.7</td>\n",
       "    </tr>\n",
       "    <tr>\n",
       "      <th>50%</th>\n",
       "      <td>51.0</td>\n",
       "      <td>9.0</td>\n",
       "      <td>136.4</td>\n",
       "    </tr>\n",
       "    <tr>\n",
       "      <th>75%</th>\n",
       "      <td>139.0</td>\n",
       "      <td>21.0</td>\n",
       "      <td>334.4</td>\n",
       "    </tr>\n",
       "    <tr>\n",
       "      <th>max</th>\n",
       "      <td>365.0</td>\n",
       "      <td>1497.0</td>\n",
       "      <td>48060.4</td>\n",
       "    </tr>\n",
       "  </tbody>\n",
       "</table>\n",
       "</div>"
      ],
      "text/plain": [
       "            R       F        M\n",
       "count  3643.0  3643.0   3643.0\n",
       "mean     90.4    18.7    370.7\n",
       "std      94.4    43.8   1347.4\n",
       "min       1.0     1.0      0.6\n",
       "25%      19.0     4.0     58.7\n",
       "50%      51.0     9.0    136.4\n",
       "75%     139.0    21.0    334.4\n",
       "max     365.0  1497.0  48060.4"
      ]
     },
     "execution_count": 227,
     "metadata": {},
     "output_type": "execute_result"
    }
   ],
   "source": [
    "# Display some discriptive statistics of customer RFM Characteristics\n",
    "customers_rfm.describe().round(1)"
   ]
  },
  {
   "cell_type": "code",
   "execution_count": 228,
   "metadata": {},
   "outputs": [
    {
     "data": {
      "image/png": "[encoded data removed]",
      "text/plain": [
       "<Figure size 1500x500 with 3 Axes>"
      ]
     },
     "metadata": {},
     "output_type": "display_data"
    }
   ],
   "source": [
    "# Show the distribution of customer RFM Characteristics\n",
    "fig, axes = plt.subplots(nrows=1, ncols=3, figsize=(15,5));\n",
    "fig.suptitle(\"Distribution of customer RFM\");\n",
    "\n",
    "axes[0].hist(customers_rfm['R'], bins=20);\n",
    "axes[0].set_title(\"Distribution of Recency (days since last purchase)\");\n",
    "\n",
    "axes[1].hist(customers_rfm['F'], bins=50);\n",
    "axes[1].set_title(\"Distribution of Frequency\");\n",
    "\n",
    "axes[2].hist(customers_rfm['M'], bins=50);\n",
    "axes[2].set_title(\"Distribution of Monetary Values (total spendings)\");"
   ]
  },
  {
   "attachments": {},
   "cell_type": "markdown",
   "metadata": {},
   "source": [
    "we can observe the skewness of data in the three RFM Values"
   ]
  },
  {
   "attachments": {},
   "cell_type": "markdown",
   "metadata": {},
   "source": [
    "### Data Preparation\n",
    "\n",
    "After extracting the characteristics of customers behavior, we need to run a clustering algorithm (KMeans) to segment similar customers together.\n",
    "\n",
    "But we need some data preparations before running KMeans for best results.\n",
    "\n",
    "I am going to do the following:\n",
    "- reduce data skewness to be more symmetrical --> using log transform as no negative data exist.\n",
    "- scaling data to have same mean and standard deviation --> using sklearn StandardScaler"
   ]
  },
  {
   "attachments": {},
   "cell_type": "markdown",
   "metadata": {},
   "source": [
    "#### Log transform"
   ]
  },
  {
   "cell_type": "code",
   "execution_count": 229,
   "metadata": {},
   "outputs": [],
   "source": [
    "# log transform\n",
    "customers_rfm_log = np.log(customers_rfm)"
   ]
  },
  {
   "cell_type": "code",
   "execution_count": 230,
   "metadata": {},
   "outputs": [
    {
     "data": {
      "image/png": "[encoded data removed]",
      "text/plain": [
       "<Figure size 1500x500 with 3 Axes>"
      ]
     },
     "metadata": {},
     "output_type": "display_data"
    }
   ],
   "source": [
    "# Show the distribution after log transform\n",
    "fig, axes = plt.subplots(nrows=1, ncols=3, figsize=(15,5));\n",
    "fig.suptitle(\"Distribution after log transform\");\n",
    "\n",
    "axes[0].hist(customers_rfm_log['R'], bins=20);\n",
    "axes[0].set_title(\"Distribution of Recency (days since last purchase)\");\n",
    "\n",
    "axes[1].hist(customers_rfm_log['F'], bins=50);\n",
    "axes[1].set_title(\"Distribution of Frequency\");\n",
    "\n",
    "axes[2].hist(customers_rfm_log['M'], bins=50);\n",
    "axes[2].set_title(\"Distribution of Monetary Values (total spendings)\");"
   ]
  },
  {
   "attachments": {},
   "cell_type": "markdown",
   "metadata": {},
   "source": [
    "#### Scaling using Standard Scalar"
   ]
  },
  {
   "cell_type": "code",
   "execution_count": 231,
   "metadata": {},
   "outputs": [
    {
     "data": {
      "text/html": [
       "<div>\n",
       "<style scoped>\n",
       "    .dataframe tbody tr th:only-of-type {\n",
       "        vertical-align: middle;\n",
       "    }\n",
       "\n",
       "    .dataframe tbody tr th {\n",
       "        vertical-align: top;\n",
       "    }\n",
       "\n",
       "    .dataframe thead th {\n",
       "        text-align: right;\n",
       "    }\n",
       "</style>\n",
       "<table border=\"1\" class=\"dataframe\">\n",
       "  <thead>\n",
       "    <tr style=\"text-align: right;\">\n",
       "      <th></th>\n",
       "      <th>R</th>\n",
       "      <th>F</th>\n",
       "      <th>M</th>\n",
       "    </tr>\n",
       "    <tr>\n",
       "      <th>CustomerID</th>\n",
       "      <th></th>\n",
       "      <th></th>\n",
       "      <th></th>\n",
       "    </tr>\n",
       "  </thead>\n",
       "  <tbody>\n",
       "    <tr>\n",
       "      <th>12747</th>\n",
       "      <td>-2.00</td>\n",
       "      <td>0.87</td>\n",
       "      <td>1.46</td>\n",
       "    </tr>\n",
       "    <tr>\n",
       "      <th>12748</th>\n",
       "      <td>-2.81</td>\n",
       "      <td>3.82</td>\n",
       "      <td>2.99</td>\n",
       "    </tr>\n",
       "    <tr>\n",
       "      <th>12749</th>\n",
       "      <td>-1.79</td>\n",
       "      <td>1.19</td>\n",
       "      <td>1.35</td>\n",
       "    </tr>\n",
       "    <tr>\n",
       "      <th>12820</th>\n",
       "      <td>-1.79</td>\n",
       "      <td>0.55</td>\n",
       "      <td>0.50</td>\n",
       "    </tr>\n",
       "    <tr>\n",
       "      <th>12822</th>\n",
       "      <td>0.34</td>\n",
       "      <td>0.02</td>\n",
       "      <td>0.04</td>\n",
       "    </tr>\n",
       "    <tr>\n",
       "      <th>...</th>\n",
       "      <td>...</td>\n",
       "      <td>...</td>\n",
       "      <td>...</td>\n",
       "    </tr>\n",
       "    <tr>\n",
       "      <th>18280</th>\n",
       "      <td>1.35</td>\n",
       "      <td>-1.22</td>\n",
       "      <td>-0.98</td>\n",
       "    </tr>\n",
       "    <tr>\n",
       "      <th>18281</th>\n",
       "      <td>1.03</td>\n",
       "      <td>-1.22</td>\n",
       "      <td>-1.13</td>\n",
       "    </tr>\n",
       "    <tr>\n",
       "      <th>18282</th>\n",
       "      <td>-1.28</td>\n",
       "      <td>-1.22</td>\n",
       "      <td>-1.15</td>\n",
       "    </tr>\n",
       "    <tr>\n",
       "      <th>18283</th>\n",
       "      <td>-1.79</td>\n",
       "      <td>2.36</td>\n",
       "      <td>0.87</td>\n",
       "    </tr>\n",
       "    <tr>\n",
       "      <th>18287</th>\n",
       "      <td>-0.03</td>\n",
       "      <td>0.44</td>\n",
       "      <td>0.80</td>\n",
       "    </tr>\n",
       "  </tbody>\n",
       "</table>\n",
       "<p>3643 rows × 3 columns</p>\n",
       "</div>"
      ],
      "text/plain": [
       "               R     F     M\n",
       "CustomerID                  \n",
       "12747      -2.00  0.87  1.46\n",
       "12748      -2.81  3.82  2.99\n",
       "12749      -1.79  1.19  1.35\n",
       "12820      -1.79  0.55  0.50\n",
       "12822       0.34  0.02  0.04\n",
       "...          ...   ...   ...\n",
       "18280       1.35 -1.22 -0.98\n",
       "18281       1.03 -1.22 -1.13\n",
       "18282      -1.28 -1.22 -1.15\n",
       "18283      -1.79  2.36  0.87\n",
       "18287      -0.03  0.44  0.80\n",
       "\n",
       "[3643 rows x 3 columns]"
      ]
     },
     "execution_count": 231,
     "metadata": {},
     "output_type": "execute_result"
    }
   ],
   "source": [
    "scaler = StandardScaler()\n",
    "scaler.fit(customers_rfm_log)\n",
    "customers_rfm_scaled = scaler.transform(customers_rfm_log).round(2)\n",
    "\n",
    "customers_rfm_scaled = pd.DataFrame(customers_rfm_scaled, index=customers_rfm.index, columns=customers_rfm.columns)"
   ]
  },
  {
   "cell_type": "code",
   "execution_count": 233,
   "metadata": {},
   "outputs": [
    {
     "data": {
      "text/html": [
       "<div>\n",
       "<style scoped>\n",
       "    .dataframe tbody tr th:only-of-type {\n",
       "        vertical-align: middle;\n",
       "    }\n",
       "\n",
       "    .dataframe tbody tr th {\n",
       "        vertical-align: top;\n",
       "    }\n",
       "\n",
       "    .dataframe thead th {\n",
       "        text-align: right;\n",
       "    }\n",
       "</style>\n",
       "<table border=\"1\" class=\"dataframe\">\n",
       "  <thead>\n",
       "    <tr style=\"text-align: right;\">\n",
       "      <th></th>\n",
       "      <th>R</th>\n",
       "      <th>F</th>\n",
       "      <th>M</th>\n",
       "    </tr>\n",
       "  </thead>\n",
       "  <tbody>\n",
       "    <tr>\n",
       "      <th>count</th>\n",
       "      <td>3643.00</td>\n",
       "      <td>3643.00</td>\n",
       "      <td>3643.00</td>\n",
       "    </tr>\n",
       "    <tr>\n",
       "      <th>mean</th>\n",
       "      <td>0.00</td>\n",
       "      <td>0.00</td>\n",
       "      <td>0.00</td>\n",
       "    </tr>\n",
       "    <tr>\n",
       "      <th>std</th>\n",
       "      <td>1.00</td>\n",
       "      <td>1.00</td>\n",
       "      <td>1.00</td>\n",
       "    </tr>\n",
       "    <tr>\n",
       "      <th>min</th>\n",
       "      <td>-2.81</td>\n",
       "      <td>-1.79</td>\n",
       "      <td>-4.09</td>\n",
       "    </tr>\n",
       "    <tr>\n",
       "      <th>25%</th>\n",
       "      <td>-0.64</td>\n",
       "      <td>-0.65</td>\n",
       "      <td>-0.66</td>\n",
       "    </tr>\n",
       "    <tr>\n",
       "      <th>50%</th>\n",
       "      <td>0.09</td>\n",
       "      <td>0.02</td>\n",
       "      <td>-0.01</td>\n",
       "    </tr>\n",
       "    <tr>\n",
       "      <th>75%</th>\n",
       "      <td>0.83</td>\n",
       "      <td>0.72</td>\n",
       "      <td>0.67</td>\n",
       "    </tr>\n",
       "    <tr>\n",
       "      <th>max</th>\n",
       "      <td>1.55</td>\n",
       "      <td>4.25</td>\n",
       "      <td>4.46</td>\n",
       "    </tr>\n",
       "  </tbody>\n",
       "</table>\n",
       "</div>"
      ],
      "text/plain": [
       "             R        F        M\n",
       "count  3643.00  3643.00  3643.00\n",
       "mean      0.00     0.00     0.00\n",
       "std       1.00     1.00     1.00\n",
       "min      -2.81    -1.79    -4.09\n",
       "25%      -0.64    -0.65    -0.66\n",
       "50%       0.09     0.02    -0.01\n",
       "75%       0.83     0.72     0.67\n",
       "max       1.55     4.25     4.46"
      ]
     },
     "execution_count": 233,
     "metadata": {},
     "output_type": "execute_result"
    }
   ],
   "source": [
    "customers_rfm_scaled.describe().round(2)"
   ]
  },
  {
   "attachments": {},
   "cell_type": "markdown",
   "metadata": {},
   "source": [
    "It is clear that data attributes have same mean and variance after transformations."
   ]
  },
  {
   "attachments": {},
   "cell_type": "markdown",
   "metadata": {},
   "source": [
    "### KMeans Clustering"
   ]
  },
  {
   "cell_type": "markdown",
   "metadata": {},
   "source": []
  }
 ],
 "metadata": {
  "kernelspec": {
   "display_name": "Python 3",
   "language": "python",
   "name": "python3"
  },
  "language_info": {
   "codemirror_mode": {
    "name": "ipython",
    "version": 3
   },
   "file_extension": ".py",
   "mimetype": "text/x-python",
   "name": "python",
   "nbconvert_exporter": "python",
   "pygments_lexer": "ipython3",
   "version": "3.10.6"
  },
  "orig_nbformat": 4,
  "vscode": {
   "interpreter": {
    "hash": "916dbcbb3f70747c44a77c7bcd40155683ae19c65e1c03b4aa3499c5328201f1"
   }
  }
 },
 "nbformat": 4,
 "nbformat_minor": 2
}
